{
  "cells": [
    {
      "cell_type": "markdown",
      "id": "d3f10e11",
      "metadata": {
        "id": "d3f10e11"
      },
      "source": [
        "# Food Vision"
      ]
    },
    {
      "cell_type": "code",
      "execution_count": 5,
      "id": "2efb4941",
      "metadata": {
        "id": "2efb4941",
        "outputId": "b6e7ccc1-9846-4acb-b714-f85768f2fef2",
        "colab": {
          "base_uri": "https://localhost:8080/"
        }
      },
      "outputs": [
        {
          "output_type": "stream",
          "name": "stdout",
          "text": [
            "--2022-10-04 01:47:56--  https://raw.githubusercontent.com/Ammar-Raneez/TF_Learning_ZTM/main/helper_functions.py\n",
            "Resolving raw.githubusercontent.com (raw.githubusercontent.com)... 185.199.110.133, 185.199.108.133, 185.199.111.133, ...\n",
            "Connecting to raw.githubusercontent.com (raw.githubusercontent.com)|185.199.110.133|:443... connected.\n",
            "HTTP request sent, awaiting response... 200 OK\n",
            "Length: 9822 (9.6K) [text/plain]\n",
            "Saving to: ‘helper_functions.py’\n",
            "\n",
            "\rhelper_functions.py   0%[                    ]       0  --.-KB/s               \rhelper_functions.py 100%[===================>]   9.59K  --.-KB/s    in 0s      \n",
            "\n",
            "2022-10-04 01:47:57 (86.7 MB/s) - ‘helper_functions.py’ saved [9822/9822]\n",
            "\n"
          ]
        }
      ],
      "source": [
        "# Get helper functions\n",
        "import os\n",
        "!wget https://raw.githubusercontent.com/Ammar-Raneez/TF_Learning_ZTM/main/helper_functions.py"
      ]
    },
    {
      "cell_type": "code",
      "source": [
        "from helper_functions import create_tensorboard_callback, plot_loss_curves, compare_historys"
      ],
      "metadata": {
        "id": "UOGqsEZqrC8u"
      },
      "id": "UOGqsEZqrC8u",
      "execution_count": 6,
      "outputs": []
    },
    {
      "cell_type": "markdown",
      "source": [
        "### Mixed Precision Training\n",
        "\n",
        "Uses a combination of single (float32) and half precision (float16) to speed up model training\n",
        "\n",
        "For this to work, a GPU with compute compatibility score of 7.0+ is required.\n",
        "\n",
        "Colab offers P100, K80 & T4 GPUs, however only T4 is has the required score."
      ],
      "metadata": {
        "id": "NeFcp4-UrFWV"
      },
      "id": "NeFcp4-UrFWV"
    },
    {
      "cell_type": "code",
      "source": [
        "!nvidia-smi -L"
      ],
      "metadata": {
        "id": "gWv4K_xCrizS",
        "outputId": "de0c4f73-7254-45aa-f947-c2fef39e0976",
        "colab": {
          "base_uri": "https://localhost:8080/"
        }
      },
      "id": "gWv4K_xCrizS",
      "execution_count": 1,
      "outputs": [
        {
          "output_type": "stream",
          "name": "stdout",
          "text": [
            "GPU 0: Tesla T4 (UUID: GPU-bcdd5057-a3d7-e4c3-7cfb-5cd013404954)\n"
          ]
        }
      ]
    },
    {
      "cell_type": "code",
      "source": [],
      "metadata": {
        "id": "P9UzRKGfrkGB"
      },
      "id": "P9UzRKGfrkGB",
      "execution_count": null,
      "outputs": []
    }
  ],
  "metadata": {
    "kernelspec": {
      "display_name": "Python 3 (ipykernel)",
      "language": "python",
      "name": "python3"
    },
    "language_info": {
      "codemirror_mode": {
        "name": "ipython",
        "version": 3
      },
      "file_extension": ".py",
      "mimetype": "text/x-python",
      "name": "python",
      "nbconvert_exporter": "python",
      "pygments_lexer": "ipython3",
      "version": "3.7.4"
    },
    "colab": {
      "provenance": []
    },
    "accelerator": "GPU"
  },
  "nbformat": 4,
  "nbformat_minor": 5
}